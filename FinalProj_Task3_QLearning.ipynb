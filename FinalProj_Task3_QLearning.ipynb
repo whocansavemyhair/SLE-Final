{
 "cells": [
  {
   "metadata": {
    "collapsed": true,
    "ExecuteTime": {
     "end_time": "2024-12-11T22:42:05.757413Z",
     "start_time": "2024-12-11T22:42:05.752055Z"
    }
   },
   "cell_type": "code",
   "source": [
    "import gym\n",
    "import numpy as np\n",
    "import random\n",
    "import matplotlib.pyplot as plt\n",
    "\n",
    "env = gym.make('CartPole-v1')\n",
    "\n",
    "n_actions = 2\n",
    "learning_rate = 0.1\n",
    "discount_factor = 0.99\n",
    "epsilon = 1\n",
    "epochs = 1000\n",
    "\n",
    "theta_bins = [-12, -6, -1, 0, 1, 6, 12]  # θ: 0, ±1, ±6, ±12\n",
    "x_bins = [-2.4, -0.8, 0.8, 2.4]  # x: ±0.8, ±2.4 \n",
    "theta_dot_bins = [-50, 50]  # θ̇: ±50, inf\n",
    "x_dot_bins = [-0.5, 0.5]  # ẋ: ±0.5, inf\n",
    "\n",
    "# Q table\n",
    "Q = np.zeros((len(theta_bins)-1, len(x_bins)-1, len(theta_dot_bins)-1,\n",
    "              len(x_dot_bins)-1, n_actions))"
   ],
   "id": "initial_id",
   "outputs": [],
   "execution_count": 9
  },
  {
   "metadata": {
    "ExecuteTime": {
     "end_time": "2024-12-11T22:42:07.184363Z",
     "start_time": "2024-12-11T22:42:07.173617Z"
    }
   },
   "cell_type": "code",
   "source": [
    "def discretize_state(state):\n",
    "    theta, x, theta_dot, x_dot = state\n",
    "    theta_idx = np.digitize(theta, theta_bins) - 1\n",
    "    x_idx = np.digitize(x, x_bins) - 1\n",
    "    theta_dot_idx = np.digitize(theta_dot, theta_dot_bins) - 1\n",
    "    x_dot_idx = np.digitize(x_dot, x_dot_bins) - 1\n",
    "    \n",
    "    return (theta_idx, x_idx, theta_dot_idx, x_dot_idx)\n",
    "\n",
    "def train():\n",
    "    rewards = []\n",
    "    for episode in range(epochs):\n",
    "        state,_ = env.reset()\n",
    "        if isinstance(state, dict):\n",
    "            state = state['state']\n",
    "        state = discretize_state(state)\n",
    "        done = False\n",
    "        total_reward = 0\n",
    "\n",
    "        while not done:\n",
    "            # epsilon-greedy\n",
    "            if random.uniform(0, 1) < epsilon:\n",
    "                action = env.action_space.sample()  \n",
    "            else:\n",
    "                action = np.argmax(Q[state])\n",
    "            \n",
    "            force = 10 if action == 1 else -10\n",
    "            next_state, reward, done, _, _ = env.step(action)\n",
    "            if isinstance(next_state, dict):\n",
    "                next_state = next_state['state']\n",
    "            next_state = discretize_state(next_state)\n",
    "\n",
    "            # update Q\n",
    "            Q[state][action] = Q[state][action] + learning_rate * (\n",
    "                reward + discount_factor * np.max(Q[next_state]) - Q[state][action]\n",
    "            )\n",
    "\n",
    "            state = next_state\n",
    "            total_reward += reward\n",
    "\n",
    "        rewards.append(total_reward)\n",
    "\n",
    "        if (episode + 1) % 100 == 0:\n",
    "            print(f\"Episode {episode+1}/{epochs}, Total reward: {total_reward}\")\n",
    "\n",
    "    return rewards\n",
    "\n",
    "\n",
    "def test():\n",
    "    state,_ = env.reset()\n",
    "    if isinstance(state, dict):\n",
    "        state = state['state']\n",
    "    state = discretize_state(state)\n",
    "    done = False\n",
    "    total_reward = 0\n",
    "\n",
    "    while not done:\n",
    "        action = np.argmax(Q[state])  \n",
    "        force = 10 if action == 1 else -10\n",
    "        next_state, reward, done, _, _ = env.step(action)\n",
    "        if isinstance(next_state, dict):\n",
    "            next_state = next_state['state']\n",
    "        next_state = discretize_state(next_state)\n",
    "        state = next_state\n",
    "        total_reward += reward\n",
    "\n",
    "    print(f\"Test Total Reward: {total_reward}\")"
   ],
   "id": "578fd6d67d42a38f",
   "outputs": [],
   "execution_count": 10
  },
  {
   "metadata": {
    "ExecuteTime": {
     "end_time": "2024-12-11T22:42:09.239387Z",
     "start_time": "2024-12-11T22:42:09.216146Z"
    }
   },
   "cell_type": "code",
   "source": [
    "rewards = train()\n",
    "test()"
   ],
   "id": "af3cacd052346cb9",
   "outputs": [
    {
     "ename": "IndexError",
     "evalue": "index 1 is out of bounds for axis 3 with size 1",
     "output_type": "error",
     "traceback": [
      "\u001B[0;31m---------------------------------------------------------------------------\u001B[0m",
      "\u001B[0;31mIndexError\u001B[0m                                Traceback (most recent call last)",
      "Cell \u001B[0;32mIn[11], line 1\u001B[0m\n\u001B[0;32m----> 1\u001B[0m rewards \u001B[38;5;241m=\u001B[39m \u001B[43mtrain\u001B[49m\u001B[43m(\u001B[49m\u001B[43m)\u001B[49m\n\u001B[1;32m      2\u001B[0m test()\n",
      "Cell \u001B[0;32mIn[10], line 35\u001B[0m, in \u001B[0;36mtrain\u001B[0;34m()\u001B[0m\n\u001B[1;32m     31\u001B[0m next_state \u001B[38;5;241m=\u001B[39m discretize_state(next_state)\n\u001B[1;32m     33\u001B[0m \u001B[38;5;66;03m# update Q\u001B[39;00m\n\u001B[1;32m     34\u001B[0m Q[state][action] \u001B[38;5;241m=\u001B[39m Q[state][action] \u001B[38;5;241m+\u001B[39m learning_rate \u001B[38;5;241m*\u001B[39m (\n\u001B[0;32m---> 35\u001B[0m     reward \u001B[38;5;241m+\u001B[39m discount_factor \u001B[38;5;241m*\u001B[39m np\u001B[38;5;241m.\u001B[39mmax(\u001B[43mQ\u001B[49m\u001B[43m[\u001B[49m\u001B[43mnext_state\u001B[49m\u001B[43m]\u001B[49m) \u001B[38;5;241m-\u001B[39m Q[state][action]\n\u001B[1;32m     36\u001B[0m )\n\u001B[1;32m     38\u001B[0m state \u001B[38;5;241m=\u001B[39m next_state\n\u001B[1;32m     39\u001B[0m total_reward \u001B[38;5;241m+\u001B[39m\u001B[38;5;241m=\u001B[39m reward\n",
      "\u001B[0;31mIndexError\u001B[0m: index 1 is out of bounds for axis 3 with size 1"
     ]
    }
   ],
   "execution_count": 11
  },
  {
   "metadata": {
    "ExecuteTime": {
     "end_time": "2024-12-11T22:40:06.217042Z",
     "start_time": "2024-12-11T22:40:06.196886Z"
    }
   },
   "cell_type": "code",
   "source": [
    "plt.plot(rewards)\n",
    "plt.xlabel('Episodes')\n",
    "plt.ylabel('Reward')\n",
    "plt.title('Q-Learning Performance on CartPole')\n",
    "plt.show()"
   ],
   "id": "656e40f7115fc7d5",
   "outputs": [
    {
     "ename": "NameError",
     "evalue": "name 'rewards' is not defined",
     "output_type": "error",
     "traceback": [
      "\u001B[0;31m---------------------------------------------------------------------------\u001B[0m",
      "\u001B[0;31mNameError\u001B[0m                                 Traceback (most recent call last)",
      "Cell \u001B[0;32mIn[4], line 1\u001B[0m\n\u001B[0;32m----> 1\u001B[0m plt\u001B[38;5;241m.\u001B[39mplot(\u001B[43mrewards\u001B[49m)\n\u001B[1;32m      2\u001B[0m plt\u001B[38;5;241m.\u001B[39mxlabel(\u001B[38;5;124m'\u001B[39m\u001B[38;5;124mEpisodes\u001B[39m\u001B[38;5;124m'\u001B[39m)\n\u001B[1;32m      3\u001B[0m plt\u001B[38;5;241m.\u001B[39mylabel(\u001B[38;5;124m'\u001B[39m\u001B[38;5;124mReward\u001B[39m\u001B[38;5;124m'\u001B[39m)\n",
      "\u001B[0;31mNameError\u001B[0m: name 'rewards' is not defined"
     ]
    }
   ],
   "execution_count": 4
  }
 ],
 "metadata": {
  "kernelspec": {
   "display_name": "Python 3",
   "language": "python",
   "name": "python3"
  },
  "language_info": {
   "codemirror_mode": {
    "name": "ipython",
    "version": 2
   },
   "file_extension": ".py",
   "mimetype": "text/x-python",
   "name": "python",
   "nbconvert_exporter": "python",
   "pygments_lexer": "ipython2",
   "version": "2.7.6"
  }
 },
 "nbformat": 4,
 "nbformat_minor": 5
}
